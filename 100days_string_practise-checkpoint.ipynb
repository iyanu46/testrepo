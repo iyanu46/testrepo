{
 "cells": [
  {
   "cell_type": "code",
   "execution_count": 1,
   "id": "2fe86071",
   "metadata": {},
   "outputs": [
    {
     "name": "stdout",
     "output_type": "stream",
     "text": [
      "Hello my neighbour\n"
     ]
    }
   ],
   "source": [
    "print(\"Hello \" + \"my neighbour\")"
   ]
  },
  {
   "cell_type": "code",
   "execution_count": 3,
   "id": "3251d214",
   "metadata": {},
   "outputs": [
    {
     "name": "stdout",
     "output_type": "stream",
     "text": [
      "How old are you?33\n",
      "33\n"
     ]
    }
   ],
   "source": [
    "name = input(\"How old are you?\") \n",
    "print(name)"
   ]
  },
  {
   "cell_type": "code",
   "execution_count": 4,
   "id": "9d3c3d14",
   "metadata": {},
   "outputs": [
    {
     "name": "stdout",
     "output_type": "stream",
     "text": [
      "I am 33\n"
     ]
    }
   ],
   "source": [
    "print(\"I am \" + name)"
   ]
  },
  {
   "cell_type": "code",
   "execution_count": 9,
   "id": "ffc8383f",
   "metadata": {},
   "outputs": [
    {
     "name": "stdout",
     "output_type": "stream",
     "text": [
      "please, how old are you?23\n",
      "I am 23 years old\n"
     ]
    }
   ],
   "source": [
    "print('I am ' + input('please, how old are you?') + ' years old')"
   ]
  },
  {
   "cell_type": "code",
   "execution_count": 10,
   "id": "9feb1fbe",
   "metadata": {},
   "outputs": [
    {
     "name": "stdout",
     "output_type": "stream",
     "text": [
      "What is the name of your school?Tostech group of schools\n",
      "The name of my school is Tostech group of schools Ijoko, Ifo, Ogun state\n"
     ]
    }
   ],
   "source": [
    "schoolname = input(\"What is the name of your school?\")\n",
    "print(\"The name of my school is \" + schoolname + \" Ijoko, Ifo, Ogun state\")"
   ]
  },
  {
   "cell_type": "code",
   "execution_count": 12,
   "id": "aff83341",
   "metadata": {},
   "outputs": [
    {
     "name": "stdout",
     "output_type": "stream",
     "text": [
      "What is the name of your school?seer\n",
      "The name of my school is seer Ijoko, Ifo, Ogun state\n"
     ]
    }
   ],
   "source": [
    "schoolname = input(\"What is the name of your school?\")\n",
    "print(\"The name of my school is \" + schoolname + \" Ijoko, Ifo, Ogun state\")"
   ]
  },
  {
   "cell_type": "code",
   "execution_count": 13,
   "id": "301c4f07",
   "metadata": {},
   "outputs": [
    {
     "name": "stdout",
     "output_type": "stream",
     "text": [
      "What's tthe name of the city you live inAbeokuta\n",
      "What's the name of your petCow\n",
      "Our suggested musical band name is, AbeokutaCow\n"
     ]
    }
   ],
   "source": [
    "citylived = input(\"What's tthe name of the city you live in\")\n",
    "petname = input(\"What's the name of your pet\")\n",
    "print (\"Our suggested musical band name is, \" + citylived + petname)"
   ]
  },
  {
   "cell_type": "code",
   "execution_count": null,
   "id": "e78632b5",
   "metadata": {},
   "outputs": [],
   "source": []
  }
 ],
 "metadata": {
  "kernelspec": {
   "display_name": "Python 3",
   "language": "python",
   "name": "python3"
  },
  "language_info": {
   "codemirror_mode": {
    "name": "ipython",
    "version": 3
   },
   "file_extension": ".py",
   "mimetype": "text/x-python",
   "name": "python",
   "nbconvert_exporter": "python",
   "pygments_lexer": "ipython3",
   "version": "3.8.8"
  }
 },
 "nbformat": 4,
 "nbformat_minor": 5
}
